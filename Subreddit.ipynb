{
 "cells": [
  {
   "cell_type": "markdown",
   "metadata": {
    "collapsed": false
   },
   "source": [
    "After downloading the data, with bzcat Downloads/RC_2015-01.bz2 | head | less is possible to see the structure of the json at the moment:"
   ]
  },
  {
   "cell_type": "code",
   "execution_count": 4,
   "metadata": {
    "collapsed": false
   },
   "outputs": [
    {
     "data": {
      "text/html": [
       "<img src=\"https://doc.gold.ac.uk:65000/user/acost051/files/BDA/reddit_data_json.jpg\"/>"
      ],
      "text/plain": [
       "<IPython.core.display.Image object>"
      ]
     },
     "execution_count": 4,
     "metadata": {},
     "output_type": "execute_result"
    }
   ],
   "source": [
    "from IPython.display import Image\n",
    "from IPython.core.display import HTML\n",
    "\n",
    "Image(url= \"https://doc.gold.ac.uk:65000/user/acost051/files/BDA/reddit_data_json.jpg\")"
   ]
  },
  {
   "cell_type": "markdown",
   "metadata": {},
   "source": [
    "It would be necessary to download, and let ready the Hive-JSON-Serde tools for working.\n",
    "After that, in hive, a new database would be created (for this time, was called 05br).\n",
    "Then, you add to hive the Hive-JSON-Serde tool.\n",
    "The next step is creating a table, that would be call \"rc\", and fill it with the data."
   ]
  },
  {
   "cell_type": "markdown",
   "metadata": {},
   "source": [
    "#Creation of the table\n",
    "CREATE TABLE rc ( subreddit STRING, author STRING, name STRING, id STRING, parent_id STRING )\n",
    "  ROW FORMAT SERDE 'org.openx.data.jsonserde.JsonSerDe' STORED AS TEXTFILE;\n",
    "  \n",
    "#Fill the table with data\n",
    "LOAD DATA LOCAL INPATH 'Downloads/RC_2015-01.bz2' OVERWRITE INTO TABLE rc"
   ]
  },
  {
   "cell_type": "markdown",
   "metadata": {},
   "source": [
    "With the table full of data, now a query would be done.\n",
    "This query will be save in the directory \"home/acost051/rcreply\", showing how many times a user answers to another user.\n",
    "\n",
    "INSERT OVERWRITE LOCAL DIRECTORY 'home/acost051/rcreply' ROW FORMAT DELIMITED FIELDS TERMINATED BY '\\t' \n",
    "    > SELECT a.author, b.author, COUNT(*) FROM rc a JOIN rc b ON a.name = b.parent_id GROUP BY a.author, b.author;\n",
    "    \n",
    "For obtain an output:\n",
    "cat BigData/Reddit/home/acost051/rcreply/* | grep -v '\\W1$' | grep -v '^\\[deleted\\][[:space:]]' | grep -v '[[:space:]]\\[deleted\\][[:space:]]' > rcreply43.ncol\n",
    "\n",
    "(The name \"rcreply43.ncol\" was used to make a difference between other files that did not work as expected)"
   ]
  },
  {
   "cell_type": "code",
   "execution_count": 5,
   "metadata": {
    "collapsed": false
   },
   "outputs": [
    {
     "data": {
      "text/html": [
       "<img src=\"https://doc.gold.ac.uk:65000/user/acost051/files/BDA/reddit_1.jpg\"/>"
      ],
      "text/plain": [
       "<IPython.core.display.Image object>"
      ]
     },
     "execution_count": 5,
     "metadata": {},
     "output_type": "execute_result"
    }
   ],
   "source": [
    "#Example of the first 33 rows that is possible to find in the field \"rcreply43.ncol\"\n",
    "Image(url=\"https://doc.gold.ac.uk:65000/user/acost051/files/BDA/reddit_1.jpg\")"
   ]
  },
  {
   "cell_type": "markdown",
   "metadata": {},
   "source": [
    "With that file, now would be created some plots showing the distribution."
   ]
  },
  {
   "cell_type": "code",
   "execution_count": null,
   "metadata": {
    "collapsed": true
   },
   "outputs": [],
   "source": [
    "import matplotlib.pyplot as p\n",
    "import igraph\n",
    "\n",
    "G = igraph.Graph.Read_Ncol('C:/MSC Data Science/Big Data Applications/reddit/rcreply43.ncol')\n",
    "\n",
    "hi = G.degree_distribution(mode='IN')\n",
    "ho = G.degree_distribution(mode='OUT')\n",
    "\n",
    "#SOME CHANGES HAVE TO BE DONE BECAUSE OF THE DIFFERENT VERSIONS OF PYTHON\n",
    "p.plot([x[0] for x in hi.bins()], [x[2] for x in hi.bins()])\n",
    "p.show()\n",
    "p.plot([x[0] for x in ho.bins()], [x[2] for x in ho.bins()])\n",
    "p.show()"
   ]
  },
  {
   "cell_type": "code",
   "execution_count": 6,
   "metadata": {
    "collapsed": false
   },
   "outputs": [
    {
     "data": {
      "text/html": [
       "<img src=\"https://doc.gold.ac.uk:65000/user/acost051/files/BDA/rcreply_hi.png\"/>"
      ],
      "text/plain": [
       "<IPython.core.display.Image object>"
      ]
     },
     "execution_count": 6,
     "metadata": {},
     "output_type": "execute_result"
    }
   ],
   "source": [
    "#Graph of the hi\n",
    "Image(url=\"https://doc.gold.ac.uk:65000/user/acost051/files/BDA/rcreply_hi.png\")"
   ]
  },
  {
   "cell_type": "code",
   "execution_count": 7,
   "metadata": {
    "collapsed": false
   },
   "outputs": [
    {
     "data": {
      "text/html": [
       "<img src=\"https://doc.gold.ac.uk:65000/user/acost051/files/BDA/rcreply_ho.png\"/>"
      ],
      "text/plain": [
       "<IPython.core.display.Image object>"
      ]
     },
     "execution_count": 7,
     "metadata": {},
     "output_type": "execute_result"
    }
   ],
   "source": [
    "#Graph of the ho\n",
    "Image(url=\"https://doc.gold.ac.uk:65000/user/acost051/files/BDA/rcreply_ho.png\")"
   ]
  },
  {
   "cell_type": "raw",
   "metadata": {},
   "source": [
    "For subsetting the data, it would be use this query:\n",
    "\n",
    "insert overwrite local directory '/home/acost051/rcbigdata'\n",
    "row format delimited fields terminated by '\\t'\n",
    "select a.author, b.author, count(*) from\n",
    "(select * from rc where subreddit = 'bigdata') a\n",
    "join\n",
    "(select * from rc where subreddit ='bigdata') b\n",
    "on a.name = b.parent_id\n",
    "group by a.author, b.author;\n",
    "\n",
    "Output:\n",
    "cat BigData/Reddit/home/acost051/rcbigdata/* | grep -v '\\W1$' | grep -v '^\\[deleted\\][[:space:]]' | grep -v '[[:space:]]\\[deleted\\][[:space:]]' > rcbigdata.ncol\n",
    "\n",
    "When the output of this is obtained, it is possible to find something similar to this:"
   ]
  },
  {
   "cell_type": "code",
   "execution_count": 8,
   "metadata": {
    "collapsed": false
   },
   "outputs": [
    {
     "data": {
      "text/html": [
       "<img src=\"https://doc.gold.ac.uk:65000/user/acost051/files/BDA/rcbigdata.jpg\"/>"
      ],
      "text/plain": [
       "<IPython.core.display.Image object>"
      ]
     },
     "execution_count": 8,
     "metadata": {},
     "output_type": "execute_result"
    }
   ],
   "source": [
    "Image(url=\"https://doc.gold.ac.uk:65000/user/acost051/files/BDA/rcbigdata.jpg\")"
   ]
  },
  {
   "cell_type": "markdown",
   "metadata": {},
   "source": [
    "Testing the multiple outputs at once.\n",
    "Query:\n",
    "\n",
    "insert overwrite local directory '/home/acost051/rcall'\n",
    "row format delimited fields terminated by '\\t'\n",
    "select a.subreddit, a.author, b.author, count(*) from\n",
    "rc a join rc b on a.name = b.parent_id\n",
    "group by a.subreddit, a.author, b.author;\n",
    "\n",
    "Output\n",
    "cat BigData/Reddit/home/acost051/rcall/* | grep -v '\\W1$' | grep -v '^\\[deleted\\][[:space:]]' | grep -v '[[:space:]]\\[deleted\\][[:space:]]' > rcall.ncol\n",
    "\n",
    "Result:"
   ]
  },
  {
   "cell_type": "code",
   "execution_count": 9,
   "metadata": {
    "collapsed": false
   },
   "outputs": [
    {
     "data": {
      "text/html": [
       "<img src=\"https://doc.gold.ac.uk:65000/user/acost051/files/BDA/rcall.jpg\"/>"
      ],
      "text/plain": [
       "<IPython.core.display.Image object>"
      ]
     },
     "execution_count": 9,
     "metadata": {},
     "output_type": "execute_result"
    }
   ],
   "source": [
    "Image(url=\"https://doc.gold.ac.uk:65000/user/acost051/files/BDA/rcall.jpg\")"
   ]
  },
  {
   "cell_type": "markdown",
   "metadata": {},
   "source": [
    "The output was obtained to see how it looks.\n",
    "The real next step was creating a new table (called rcall) in the database.\n",
    "\n",
    "create table rcall (author1 STRING, author2 STRING, count INT) partitioned by (subreddit STRING)\n",
    "row format delimited fields terminated by '\\t';\n",
    "\n",
    "Next step was setting the Hive parameters:\n",
    "\n",
    "set hive.exec.dynamic.partition.mode = nonstrict;\n",
    "set hive.exec.max.dynamic.partitions = 50000;\n",
    "set hive.exec.max.dynamic.partitions.pernode = 50000;"
   ]
  },
  {
   "cell_type": "markdown",
   "metadata": {},
   "source": [
    "There are two options for obtain multiple outputs at once.\n",
    "The first query:\n",
    "select c.* from (select subreddit, count(*) as count from rc group by subreddit) c where c.count > 10000;\n",
    "\n",
    "The second query:\n",
    "select subreddit, count(*) from rc group by subreddit having count(*) > 10000;\n",
    "\n",
    "The first one is done in 299.226 seconds, while the second one is done in 263.433 seconds. The difference between them, is that the first query is using a subquery, and that is probably why needs more time to be complete."
   ]
  },
  {
   "cell_type": "markdown",
   "metadata": {},
   "source": [
    "Now, the hive settings would change to 1000 for each one:\n",
    "\n",
    "set hive.exec.max.dynamic.partitions = 1000;\n",
    "set hive.exec.max.dynamic.partitions.pernode = 1000;\n",
    "set hive.optimize.sort.dynamic.partition = true;"
   ]
  },
  {
   "cell_type": "markdown",
   "metadata": {},
   "source": [
    "The final query that generated a big number of individually labelled directories (reason why it needs 924.586 seconds to be complete, doing 7 jobs):\n",
    "\n",
    "insert overwrite table rcall partition (subreddit)\n",
    "select a.author, b.author, count(*), a.subreddit from \n",
    "rc a join rc b on a.name = b.parent_id \n",
    "  join (select subreddit, count(*) as count from rc group by subreddit) c on a.subreddit = c.subreddit\n",
    "where c.count > 10000\n",
    "group by a.author, b.author, a.subreddit;\n",
    "\n",
    "Was not possible to obtain the output with the hadoop commands, but the results that were show in the screen are:"
   ]
  },
  {
   "cell_type": "code",
   "execution_count": 10,
   "metadata": {
    "collapsed": false
   },
   "outputs": [
    {
     "data": {
      "text/html": [
       "<img src=\"https://doc.gold.ac.uk:65000/user/acost051/files/BDA/partition_rcall.jpg\"/>"
      ],
      "text/plain": [
       "<IPython.core.display.Image object>"
      ]
     },
     "execution_count": 10,
     "metadata": {},
     "output_type": "execute_result"
    }
   ],
   "source": [
    "Image(url=\"https://doc.gold.ac.uk:65000/user/acost051/files/BDA/partition_rcall.jpg\")"
   ]
  },
  {
   "cell_type": "markdown",
   "metadata": {},
   "source": [
    "With the file \"rcbigada_learn.ncol\", that was obtained with this query:\n",
    "\n",
    "insert overwrite local directory '/home/acost051/rcbigdata'\n",
    "row format delimited fields terminated by '\\t'\n",
    "select a.author, b.author, count(*) from rc a join rc b on a.name = b.parent_id\n",
    "where a.subreddit = 'learnprogramming'\n",
    "group by a.author, b.author;\n",
    "\n",
    "And the output:\n",
    "cat BigData/Reddit/home/acost051/rcbigdata/* | grep -v '\\W1$' | grep -v '^\\[deleted\\][[:space:]]' | grep -v '[[:space:]]\\[deleted\\][[:space:]]' > rcbigdata_learn.ncol\n"
   ]
  },
  {
   "cell_type": "code",
   "execution_count": null,
   "metadata": {
    "collapsed": true
   },
   "outputs": [],
   "source": [
    "import igraph\n",
    "\n",
    "# parse the graph\n",
    "G = igraph.Graph.Read_Ncol(\"rcbigdata_learn.ncol\") #THIS IS GIVING AN ERROR, THAT WASN´T POSSIBLE TO SOLVE WHAT WAS IT\n",
    "\n",
    "# delete the vertex corresponding to the [deleted] pseudo-user\n",
    "G.delete_vertices(G.vs['name'].index('[deleted]'))\n",
    "\n",
    "# compute the geometric mean of the in- and out-degree for each vertex\n",
    "mdegree = map(lambda x,y: sqrt(x*y), G.indegree(), G.outdegree())\n",
    "\n",
    "i = mdegree.index(max(mdegree))\n",
    "\n",
    "print (\"most connected commenter in '%s': %s (indegree %d, outdegree %d)\" % (subreddit, G.vs[i]['name'], G.indegree(i), G.outdegree(i) ))"
   ]
  },
  {
   "cell_type": "markdown",
   "metadata": {},
   "source": [
    "There where different problems that did not let obtain the graphs."
   ]
  }
 ],
 "metadata": {
  "kernelspec": {
   "display_name": "Python 3",
   "language": "python",
   "name": "python3"
  },
  "language_info": {
   "codemirror_mode": {
    "name": "ipython",
    "version": 3
   },
   "file_extension": ".py",
   "mimetype": "text/x-python",
   "name": "python",
   "nbconvert_exporter": "python",
   "pygments_lexer": "ipython3",
   "version": "3.3.2"
  }
 },
 "nbformat": 4,
 "nbformat_minor": 0
}
