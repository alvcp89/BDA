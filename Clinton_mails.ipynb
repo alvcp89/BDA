{
 "cells": [
  {
   "cell_type": "markdown",
   "metadata": {},
   "source": [
    "All this code was tested as common python, not in an iptython notebook."
   ]
  },
  {
   "cell_type": "markdown",
   "metadata": {},
   "source": [
    "The first thing was loading the data in the code, after the download of it."
   ]
  },
  {
   "cell_type": "code",
   "execution_count": null,
   "metadata": {
    "collapsed": true
   },
   "outputs": [],
   "source": [
    "import json\n",
    "import igraph\n",
    "\n",
    "#READ THE DATA AND SAVE IT IN A VARIABLE\n",
    "fp = open(\"emails.json\", \"r\")\n",
    "emails = json.load(fp)\n",
    "fp.close()"
   ]
  },
  {
   "cell_type": "markdown",
   "metadata": {},
   "source": [
    "Now, the rows are count, before and after clean it."
   ]
  },
  {
   "cell_type": "code",
   "execution_count": null,
   "metadata": {
    "collapsed": true
   },
   "outputs": [],
   "source": [
    "#COUNTING DATA, THE ROWS\n",
    "data = emails['rows']\n",
    "print(\"number of rows: %d\" % len(data))\n",
    "#NUMBER OF ROWS AT THE MOMENT IS 27159\n",
    "\n",
    "#NOW, THE DATA IS GOING TO BE CLEAN, AND THE ROWS WILL BE COUNT AGAIN\n",
    "def acceptable_field(f):\n",
    "\treturn f.strip() != \"\" and f.find(\";\") == -1\n",
    "\t\n",
    "data = list(filter(lambda x: acceptable_field(x['from']) and acceptable_field(x['to']), data))\n",
    "#TO USE filter, THE OBJECT HAS TO BE ITERATE SOMEHOW, LIKE CONVERT IT TO A LIST\n",
    "print(\"number of rows (after cleaning): %d\" % len(data))\n",
    "#NUMBER OF ROWS IS 26076"
   ]
  },
  {
   "cell_type": "markdown",
   "metadata": {},
   "source": [
    "Now is possible to start the creation of a graph."
   ]
  },
  {
   "cell_type": "code",
   "execution_count": null,
   "metadata": {
    "collapsed": true
   },
   "outputs": [],
   "source": [
    "#FROM THE DATA, HERE STARTS THE CREATION OF THE GRAPH\n",
    "names = []\n",
    "edgelist = []\n",
    "\n",
    "for row in data:\n",
    "\tif not row['from'] in names:\n",
    "\t\tnames += [row['from']]\n",
    "\tif not row['to'] in names:\n",
    "\t\tnames += [row['to']]\n",
    "\tedgelist += [(names.index(row['from']), names.index(row['to']))]\n",
    "\t\n",
    "G = igraph.Graph(n=len(names), edges=edgelist, vertex_attrs={ 'name' : names }, directed=\"TRUE\")"
   ]
  },
  {
   "cell_type": "markdown",
   "metadata": {},
   "source": [
    "Before the layout, the edges will be reduce."
   ]
  },
  {
   "cell_type": "code",
   "execution_count": null,
   "metadata": {
    "collapsed": true
   },
   "outputs": [],
   "source": [
    "#EDGES BEFORE SIMPLIFICATION\n",
    "print(\"Number of edges (before simplification): %d\" % len(G.es))\n",
    "#NUMBER OF EDGES: 26076\n",
    "\n",
    "#SIMPLIFICATION OF EDGES\n",
    "G.es['weight'] = [1]*len(G.es)\n",
    "G.simplify(combine_edges=sum)\n",
    "print(\"Number of edges (after simplification): %d\" % len(G.es))\n",
    "#NUMBER OF EDGES: 622"
   ]
  },
  {
   "cell_type": "markdown",
   "metadata": {},
   "source": [
    "Now is possible to layout a graph with the names and the relation between them."
   ]
  },
  {
   "cell_type": "code",
   "execution_count": null,
   "metadata": {
    "collapsed": true
   },
   "outputs": [],
   "source": [
    "layout = G.layout(layout=\"fruchterman_reingold\")\n",
    "igraph.plot(G, layout=layout, vertex_size=5, vertex_label=[G.vs[x]['name'] if G.strength(x, weights='weight') > 50 else \"\" for x in range(len(G.vs))],\n",
    "vertex_label_size=10, edge_arrow_size=0.7)"
   ]
  },
  {
   "cell_type": "code",
   "execution_count": 3,
   "metadata": {
    "collapsed": false
   },
   "outputs": [
    {
     "data": {
      "text/html": [
       "<img src=\"https://doc.gold.ac.uk:65000/user/acost051/files/BDA/graph_names.jpg\"/>"
      ],
      "text/plain": [
       "<IPython.core.display.Image object>"
      ]
     },
     "execution_count": 3,
     "metadata": {},
     "output_type": "execute_result"
    }
   ],
   "source": [
    "from IPython.display import Image\n",
    "from IPython.core.display import HTML\n",
    "\n",
    "Image(url= \"https://doc.gold.ac.uk:65000/user/acost051/files/BDA/graph_names.jpg\")"
   ]
  },
  {
   "cell_type": "markdown",
   "metadata": {},
   "source": [
    "After some modifications of the vertex siz, the vertex label size and the edge arrow size, the graph looks like this:"
   ]
  },
  {
   "cell_type": "code",
   "execution_count": 4,
   "metadata": {
    "collapsed": false
   },
   "outputs": [
    {
     "data": {
      "text/html": [
       "<img src=\"https://doc.gold.ac.uk:65000/user/acost051/files/BDA/graph_names_2.jpg\"/>"
      ],
      "text/plain": [
       "<IPython.core.display.Image object>"
      ]
     },
     "execution_count": 4,
     "metadata": {},
     "output_type": "execute_result"
    }
   ],
   "source": [
    "Image(url=\"https://doc.gold.ac.uk:65000/user/acost051/files/BDA/graph_names_2.jpg\")"
   ]
  }
 ],
 "metadata": {
  "kernelspec": {
   "display_name": "Python 3",
   "language": "python",
   "name": "python3"
  },
  "language_info": {
   "codemirror_mode": {
    "name": "ipython",
    "version": 3
   },
   "file_extension": ".py",
   "mimetype": "text/x-python",
   "name": "python",
   "nbconvert_exporter": "python",
   "pygments_lexer": "ipython3",
   "version": "3.3.2"
  }
 },
 "nbformat": 4,
 "nbformat_minor": 0
}
