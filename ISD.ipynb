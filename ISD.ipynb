{
 "metadata": {
  "name": "",
  "signature": "sha256:e5672c283f233727493b3949cc2cc34afafbaea6d9e82a03e97c7591f887fe87"
 },
 "nbformat": 3,
 "nbformat_minor": 0,
 "worksheets": [
  {
   "cells": [
    {
     "cell_type": "heading",
     "level": 1,
     "metadata": {},
     "source": [
      "Downloading data"
     ]
    },
    {
     "cell_type": "heading",
     "level": 6,
     "metadata": {},
     "source": [
      "First step was downloading the data from NOAA.\n",
      "With the FTP software FileZilla was possible to make the connection to the server \"ftp.ncdc.noaa.gov\"\n",
      "The credentilas were:\n",
      "-User: ftp\n",
      "-Password: acost051@gold.ac.uk"
     ]
    },
    {
     "cell_type": "heading",
     "level": 6,
     "metadata": {},
     "source": [
      "Then, the next step was selecting all the folders with the files that would be use, for this case, were downloaded data from 1901 to 2006."
     ]
    },
    {
     "cell_type": "heading",
     "level": 1,
     "metadata": {},
     "source": [
      "Maximum Temperature per year"
     ]
    },
    {
     "cell_type": "heading",
     "level": 6,
     "metadata": {},
     "source": [
      "First, was necessary to create the mapper that would be use. For this case:"
     ]
    },
    {
     "cell_type": "code",
     "collapsed": false,
     "input": [
      "#! /usr/bin/env python\n",
      "import re, sys\n",
      "\n",
      "for line in sys.stdin:\n",
      "\tval = line.strip()\n",
      "\t(year, temp, q) = (val[14:18], val[25:30], val[31:32])\n",
      "\tif(temp != \"9999\" and re.match(\"[01459]\", q)):\n",
      "\t\tprint \"%s\\t%s\" % (year, temp)"
     ],
     "language": "python",
     "metadata": {},
     "outputs": []
    },
    {
     "cell_type": "heading",
     "level": 6,
     "metadata": {},
     "source": [
      "Once the mapper is created, is necessary to create the reducer:"
     ]
    },
    {
     "cell_type": "code",
     "collapsed": false,
     "input": [
      "#! /usr/bin/env python\n",
      "import sys\n",
      "\n",
      "(last_key, max_val) = (None, -sys.maxint)\n",
      "for line in sys.stdin:\n",
      "\t(key, val) = line.strip().split(\"\\t\")\n",
      "\tif last_key and last_key != key:\n",
      "\t\tprint \"%s\\t%s\" % (last_key, max_val)\n",
      "\t\t(last_key, max_val) = (key, int(val))\n",
      "\telse:\n",
      "\t\t(last_key, max_val) = (key, max(max_val, int(val)))\n",
      "\n",
      "if last_key:\n",
      "\tprint \"%s\\t%s\" % (last_key, max_val)"
     ],
     "language": "python",
     "metadata": {},
     "outputs": []
    },
    {
     "cell_type": "heading",
     "level": 1,
     "metadata": {},
     "source": [
      "Minimum Temperature per year"
     ]
    },
    {
     "cell_type": "heading",
     "level": 6,
     "metadata": {},
     "source": [
      "Similar to the other case. There would be a mapper:"
     ]
    },
    {
     "cell_type": "code",
     "collapsed": false,
     "input": [
      "#! /usr/bin/env python\n",
      "import re, sys\n",
      "\n",
      "for line in sys.stdin:\n",
      "\tval = line.strip()\n",
      "\t(year, temp, q) = (val[14:18], val[25:30], val[31:32])\n",
      "\tif(temp != \"9999\" and re.match(\"[01459]\", q)):\n",
      "\t\tprint \"%s\\t%s\" % (year, temp)\n",
      "#The same mapper was used"
     ],
     "language": "python",
     "metadata": {},
     "outputs": []
    },
    {
     "cell_type": "heading",
     "level": 6,
     "metadata": {},
     "source": [
      "And a reducer:"
     ]
    },
    {
     "cell_type": "code",
     "collapsed": false,
     "input": [
      "#! /usr/bin/python\n",
      "\n",
      "import sys\n",
      "\n",
      "minTemp = 9999\n",
      "currentYear = None\n",
      "year = None\n",
      "\n",
      "for line in sys.stdin:\n",
      "\t(year, temp) = line.split('\\t', 1)\n",
      "\ttemp = int(temp)\n",
      "\tif year == current_year:\n",
      "\t\tif temp < minTemp:\n",
      "\t\t\tminTemp = temp\n",
      "\t\telse:\n",
      "\t\t\tif current_year:\n",
      "\t\t\t\tprint \"%s\\t%s\" % (current_year, minTemp)\n",
      "\t\t\t\n",
      "\t\t\tminTemp = temp\n",
      "\t\t\tcurrent_year = year\n",
      "\n",
      "if year == current_year:\n",
      "\tprint \"%s\\t%s\" % (year, minTemp)\n",
      "#A different way to obtain the answer, because max and min reducer is very similar"
     ],
     "language": "python",
     "metadata": {},
     "outputs": []
    },
    {
     "cell_type": "heading",
     "level": 1,
     "metadata": {},
     "source": [
      "Mean"
     ]
    },
    {
     "cell_type": "heading",
     "level": 6,
     "metadata": {},
     "source": [
      "Mapper"
     ]
    },
    {
     "cell_type": "code",
     "collapsed": false,
     "input": [
      "#! /usr/bin/env python\n",
      "import re, sys\n",
      "\n",
      "for line in sys.stdin:\n",
      "\tval = line.strip()\n",
      "\t(year, temp, q) = (val[14:18], val[25:30], val[31:32])\n",
      "\tif(temp != \"9999\" and re.match(\"[01459]\", q)):\n",
      "\t\tprint \"%s\\t%s\" % (year, temp)\n",
      "#The same mapper was used"
     ],
     "language": "python",
     "metadata": {},
     "outputs": []
    },
    {
     "cell_type": "heading",
     "level": 6,
     "metadata": {},
     "source": [
      "Reducer"
     ]
    },
    {
     "cell_type": "code",
     "collapsed": false,
     "input": [
      "#! /usr/bin/python\n",
      "\n",
      "import sys\n",
      "\n",
      "sumTemp = 0\n",
      "count = 0\n",
      "current_year = None\n",
      "year = None\n",
      "\n",
      "for line in sys.stdin:\n",
      "\t(year, temp) = line.split('\\t', 1)\n",
      "\ttemp = int(temp)\n",
      "\tif year == current_year:\n",
      "\t\tsumTemp += temp\n",
      "\t\tcount += 1\n",
      "\telse:\n",
      "\t\tif current_year:\n",
      "\t\t\tprint \"%s\\t%s\" % (current_year, float(sumTemp) / float(count))\n",
      "\t\t\n",
      "\t\tsumTemp = temp\n",
      "\t\tcount = 1\n",
      "\t\tcurrent_year = year\n",
      "\n",
      "if year == current_year:\n",
      "\tprint \"%s\\t%s\" % (year, float(sumTemp) / float(count))"
     ],
     "language": "python",
     "metadata": {},
     "outputs": []
    },
    {
     "cell_type": "heading",
     "level": 1,
     "metadata": {},
     "source": [
      "Median"
     ]
    },
    {
     "cell_type": "heading",
     "level": 1,
     "metadata": {},
     "source": [
      "Mapper"
     ]
    },
    {
     "cell_type": "code",
     "collapsed": false,
     "input": [
      "#! /usr/bin/env python\n",
      "import re, sys\n",
      "\n",
      "for line in sys.stdin:\n",
      "\tval = line.strip()\n",
      "\t(year, temp, q) = (val[14:18], val[25:30], val[31:32])\n",
      "\tif(temp != \"9999\" and re.match(\"[01459]\", q)):\n",
      "\t\tprint \"%s\\t%s\" % (year, temp)\n",
      "#The same mapper was used"
     ],
     "language": "python",
     "metadata": {},
     "outputs": []
    },
    {
     "cell_type": "heading",
     "level": 6,
     "metadata": {},
     "source": [
      "Reducer"
     ]
    },
    {
     "cell_type": "code",
     "collapsed": false,
     "input": [
      "#!/usr/bin/env python\n",
      "\n",
      "import sys\n",
      "\n",
      "obs = {}\n",
      "count = 0; current_year = None; year = None\n",
      "\n",
      "for line in sys.stdin:\n",
      "\t(year, temp) = line.split('\\t', 1)\n",
      "\ttemp = int(temp)\n",
      "\tif year == current_year:\n",
      "\t\tobs.setdefault(temp, 0)\n",
      "\t\tobs[temp] += 1\n",
      "\t\tcount += 1\n",
      "\telse:\n",
      "\t\tif current_year:\n",
      "\t\t\tc = 0\n",
      "\t\t\tfor temp in sorted(obs.keys()):\n",
      "\t\t\t\tcc = obs[temp]\n",
      "\t\t\t\tif c <= count/2 and c + cc > count/2:\n",
      "\t\t\t\t\tbreak\n",
      "\t\t\t\tc += cc\n",
      "\t\t\tprint \"%s\\t%s\" % (current_year, temp)\n",
      "\t\tobs = {}\n",
      "\t\tcount = 0\n",
      "\t\tcurrent_year = year\n",
      "\n",
      "if year == current_year:\n",
      "\tc = 0\n",
      "\tfor temp in sorted(obs.keys()):\n",
      "\t\tcc = obs[temp]\n",
      "\t\tif c <= count/2 and c + cc > count/2:\n",
      "\t\t\tbreak\n",
      "\t\tc += cc\n",
      "\tprint \"%s\\t%s\" % (current_year, temp)"
     ],
     "language": "python",
     "metadata": {},
     "outputs": []
    },
    {
     "cell_type": "heading",
     "level": 1,
     "metadata": {},
     "source": [
      "After creating mapper and reducer"
     ]
    },
    {
     "cell_type": "heading",
     "level": 6,
     "metadata": {},
     "source": [
      "Wasn\u00b4t possible to evaluate how were the answers, every time that this command was executed:\n",
      "\"hadoop jar /usr/local/hadoop-2.6.0/share/hadoop/tools/lib/hadoop-streaming-2.6.0.jar -file map_max_min.py -mapper map_max_min.py -file reducerMax.py -reducer reducerMax.py -input /home/acost051/BigData/isd/Data -output /home/acost051/BigData/isd/output\"\n",
      "There was always the same error (\"Input path does not exist: hdfs://dsm1:9000/home/acost051/BigData/isd/Data\". Also, when the test of the code was done in the ssh console, nothing appear at the screen with some of the files"
     ]
    }
   ],
   "metadata": {}
  }
 ]
}
